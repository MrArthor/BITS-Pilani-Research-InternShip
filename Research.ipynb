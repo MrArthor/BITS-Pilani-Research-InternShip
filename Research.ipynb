{
 "cells": [
  {
   "cell_type": "code",
   "execution_count": 1,
   "id": "c16ee6ac",
   "metadata": {},
   "outputs": [],
   "source": [
    "import numpy as np\n",
    "import sys\n",
    "import pickle\n",
    "from os import mkdir\n",
    "from os.path import join, isdir\n",
    "from numpy import linalg as LA\n",
    "from math import sqrt, inf\n",
    "from decimal import Decimal\n",
    "import time\n",
    "import gym\n",
    "import envs\n",
    "from gym import spaces, logger\n",
    "from scenario_objects import Point, Cell, User, Environment\n",
    "import plotting\n",
    "from my_utils import *\n",
    "import agent\n",
    "from Astar import *\n",
    "'''import warnings\n",
    "warnings.filterwarnings(\"ignore\", category=np.VisibleDeprecationWarning)\n",
    "'''# _________ Main training parameters:_________\n",
    "\n",
    "SHOW_EVERY = 30\n",
    "LEARNING_RATE = 1.0\n",
    "DISCOUNT = 0.95\n",
    "EPSILON = 1.0\n",
    "EPSILON_DECREMENT = 0.998\n",
    "EPSILON_MIN = 0.01\n",
    "EPSILON_MIN2 = 0.4\n",
    "\n",
    "max_value_for_Rmax = 100\n",
    "ITERATIONS_PER_EPISODE = 40\n",
    "\n",
    "# _____________________________________________\n",
    "\n",
    "\n",
    "# __________________ Main loadings: __________________\n",
    "\n"
   ]
  },
  {
   "cell_type": "code",
   "execution_count": 2,
   "id": "81b42ffd",
   "metadata": {},
   "outputs": [
    {
     "name": "stdout",
     "output_type": "stream",
     "text": [
      "[5, 6, 7, 8, 4]\n"
     ]
    }
   ],
   "source": [
    "env = gym.make('UAVEnv-v0')\n",
    "MAX_UAV_HEIGHT = env.max_uav_height\n",
    "n_actions = env.nb_actions\n",
    "actions_indeces = range(n_actions)\n",
    "cs_cells = env.cs_cells\n",
    "cs_cells_coords_for_UAVs = [(cell._x_coord, cell._y_coord) for cell in cs_cells] if DIMENSION_2D==True else [(cell._x_coord, cell._y_coord, cell._z_coord) for cell in cs_cells]\n",
    "#cells_matrix = env.cells_matrix\n",
    "action_set_min = env.action_set_min\n",
    "if (UNLIMITED_BATTERY==False):\n",
    "    q_table_action_set = env.q_table_action_set\n",
    "    charging_set = env.charging_set\n",
    "    come_home_set = env.come_home_set\n",
    "\n",
    "reset_uavs = env.reset\n",
    "centroids = env.cluster_centroids\n",
    "# Scale centroids according to the selected resolution:\n",
    "env_centroids = [(centroid[0]/CELL_RESOLUTION_PER_COL, centroid[1]/CELL_RESOLUTION_PER_ROW) for centroid in centroids]\n",
    "print(action_set_min)"
   ]
  },
  {
   "cell_type": "code",
   "execution_count": 3,
   "id": "73bbfffe",
   "metadata": {},
   "outputs": [
    {
     "data": {
      "text/plain": [
       "[<agent.Agent at 0x1e3eaad63a0>, <agent.Agent at 0x1e3eaad6d30>]"
      ]
     },
     "execution_count": 3,
     "metadata": {},
     "output_type": "execute_result"
    }
   ],
   "source": [
    "agent=env.agents\n",
    "agent\n"
   ]
  },
  {
   "cell_type": "code",
   "execution_count": 4,
   "id": "070afebd",
   "metadata": {},
   "outputs": [],
   "source": [
    "states = env.observation_space.shape\n",
    "actions = env.action_space.n\n"
   ]
  },
  {
   "cell_type": "code",
   "execution_count": 5,
   "id": "eb9b3c5a",
   "metadata": {},
   "outputs": [
    {
     "data": {
      "text/plain": [
       "7"
      ]
     },
     "execution_count": 5,
     "metadata": {},
     "output_type": "execute_result"
    }
   ],
   "source": [
    "n_actions"
   ]
  },
  {
   "cell_type": "code",
   "execution_count": 6,
   "id": "612d4755",
   "metadata": {},
   "outputs": [
    {
     "data": {
      "text/plain": [
       "7"
      ]
     },
     "execution_count": 6,
     "metadata": {},
     "output_type": "execute_result"
    }
   ],
   "source": [
    "actions"
   ]
  },
  {
   "cell_type": "code",
   "execution_count": 7,
   "id": "f7db9b3c",
   "metadata": {},
   "outputs": [
    {
     "data": {
      "text/plain": [
       "(10, 10)"
      ]
     },
     "execution_count": 7,
     "metadata": {},
     "output_type": "execute_result"
    }
   ],
   "source": [
    "states"
   ]
  },
  {
   "cell_type": "code",
   "execution_count": null,
   "id": "76ad968a",
   "metadata": {},
   "outputs": [],
   "source": []
  },
  {
   "cell_type": "code",
   "execution_count": 8,
   "id": "0811d49f",
   "metadata": {
    "scrolled": false
   },
   "outputs": [],
   "source": [
    "length, width= env.observation_space.shape"
   ]
  },
  {
   "cell_type": "code",
   "execution_count": 9,
   "id": "ac87cdad",
   "metadata": {},
   "outputs": [
    {
     "data": {
      "text/plain": [
       "10"
      ]
     },
     "execution_count": 9,
     "metadata": {},
     "output_type": "execute_result"
    }
   ],
   "source": [
    "length"
   ]
  },
  {
   "cell_type": "code",
   "execution_count": 15,
   "id": "bab200e7",
   "metadata": {},
   "outputs": [],
   "source": [
    "import numpy as np\n",
    "import tensorflow \n",
    "from tensorflow.keras.models import Sequential\n",
    "from tensorflow.keras.layers import Dense, Flatten\n",
    "from tensorflow.keras.optimizers import Adam\n",
    "\n",
    "def build_model(height, width, actions):\n",
    "    model = tensorflow.keras.Sequential()    \n",
    "    model.add(Dense(240, activation='relu', input_shape=(2,height, width)))\n",
    "    model.add(Dense(240, activation='relu'))\n",
    "    model.add(Flatten())\n",
    "    model.add(Dense(512, activation='relu'))\n",
    "    model.add(Dense(256, activation='relu'))\n",
    "    model.add(Dense(actions, activation='linear'))\n",
    "    return model"
   ]
  },
  {
   "cell_type": "code",
   "execution_count": 16,
   "id": "b08a3ee9",
   "metadata": {},
   "outputs": [],
   "source": [
    "model = build_model(length, width, actions)"
   ]
  },
  {
   "cell_type": "code",
   "execution_count": 12,
   "id": "aaf5dbe8",
   "metadata": {},
   "outputs": [
    {
     "name": "stdout",
     "output_type": "stream",
     "text": [
      "Model: \"sequential\"\n",
      "_________________________________________________________________\n",
      " Layer (type)                Output Shape              Param #   \n",
      "=================================================================\n",
      " dense (Dense)               (None, 2, 10, 240)        2640      \n",
      "                                                                 \n",
      " dense_1 (Dense)             (None, 2, 10, 240)        57840     \n",
      "                                                                 \n",
      " flatten (Flatten)           (None, 4800)              0         \n",
      "                                                                 \n",
      " dense_2 (Dense)             (None, 512)               2458112   \n",
      "                                                                 \n",
      " dense_3 (Dense)             (None, 256)               131328    \n",
      "                                                                 \n",
      " dense_4 (Dense)             (None, 7)                 1799      \n",
      "                                                                 \n",
      "=================================================================\n",
      "Total params: 2,651,719\n",
      "Trainable params: 2,651,719\n",
      "Non-trainable params: 0\n",
      "_________________________________________________________________\n"
     ]
    }
   ],
   "source": [
    "model.summary()\n"
   ]
  },
  {
   "cell_type": "code",
   "execution_count": 13,
   "id": "2916193b",
   "metadata": {},
   "outputs": [],
   "source": [
    "from rl.agents import DQNAgent\n",
    "from rl.policy import BoltzmannQPolicy\n",
    "from rl.memory import SequentialMemory\n",
    "def build_agent(model, actions):\n",
    "    policy = BoltzmannQPolicy()\n",
    "    memory = SequentialMemory(limit=50000, window_length=7)\n",
    "    dqn = DQNAgent(model=model, memory=memory, policy=policy, \n",
    "                  nb_actions=actions, nb_steps_warmup=10, target_model_update=1e-2)\n",
    "    return dqn\n"
   ]
  },
  {
   "cell_type": "code",
   "execution_count": 17,
   "id": "02b748f1",
   "metadata": {},
   "outputs": [
    {
     "name": "stdout",
     "output_type": "stream",
     "text": [
      "Training for 100 steps ...\n"
     ]
    },
    {
     "ename": "TypeError",
     "evalue": "reset() missing 1 required positional argument: 'agent'",
     "output_type": "error",
     "traceback": [
      "\u001b[1;31m---------------------------------------------------------------------------\u001b[0m",
      "\u001b[1;31mTypeError\u001b[0m                                 Traceback (most recent call last)",
      "\u001b[1;32md:\\Drive\\Google Drive\\research\\custom_gym\\Research.ipynb Cell 15\u001b[0m in \u001b[0;36m<cell line: 3>\u001b[1;34m()\u001b[0m\n\u001b[0;32m      <a href='vscode-notebook-cell:/d%3A/Drive/Google%20Drive/research/custom_gym/Research.ipynb#ch0000014?line=0'>1</a>\u001b[0m dqn \u001b[39m=\u001b[39m build_agent(model, actions)\n\u001b[0;32m      <a href='vscode-notebook-cell:/d%3A/Drive/Google%20Drive/research/custom_gym/Research.ipynb#ch0000014?line=1'>2</a>\u001b[0m dqn\u001b[39m.\u001b[39mcompile(Adam(lr\u001b[39m=\u001b[39m\u001b[39m1e-4\u001b[39m))\n\u001b[1;32m----> <a href='vscode-notebook-cell:/d%3A/Drive/Google%20Drive/research/custom_gym/Research.ipynb#ch0000014?line=2'>3</a>\u001b[0m dqn\u001b[39m.\u001b[39;49mfit(env, nb_steps\u001b[39m=\u001b[39;49m\u001b[39m100\u001b[39;49m, visualize\u001b[39m=\u001b[39;49m\u001b[39mFalse\u001b[39;49;00m, verbose\u001b[39m=\u001b[39;49m\u001b[39m2\u001b[39;49m)\n",
      "File \u001b[1;32m~\\AppData\\Roaming\\Python\\Python39\\site-packages\\rl\\core.py:131\u001b[0m, in \u001b[0;36mAgent.fit\u001b[1;34m(self, env, nb_steps, action_repetition, callbacks, verbose, visualize, nb_max_start_steps, start_step_policy, log_interval, nb_max_episode_steps)\u001b[0m\n\u001b[0;32m    129\u001b[0m \u001b[39m# Obtain the initial observation by resetting the environment.\u001b[39;00m\n\u001b[0;32m    130\u001b[0m \u001b[39mself\u001b[39m\u001b[39m.\u001b[39mreset_states()\n\u001b[1;32m--> 131\u001b[0m observation \u001b[39m=\u001b[39m deepcopy(env\u001b[39m.\u001b[39;49mreset())\n\u001b[0;32m    132\u001b[0m \u001b[39mif\u001b[39;00m \u001b[39mself\u001b[39m\u001b[39m.\u001b[39mprocessor \u001b[39mis\u001b[39;00m \u001b[39mnot\u001b[39;00m \u001b[39mNone\u001b[39;00m:\n\u001b[0;32m    133\u001b[0m     observation \u001b[39m=\u001b[39m \u001b[39mself\u001b[39m\u001b[39m.\u001b[39mprocessor\u001b[39m.\u001b[39mprocess_observation(observation)\n",
      "\u001b[1;31mTypeError\u001b[0m: reset() missing 1 required positional argument: 'agent'"
     ]
    }
   ],
   "source": [
    "dqn = build_agent(model, actions)\n",
    "dqn.compile(Adam(lr=1e-4))\n",
    "dqn.fit(env, nb_steps=100, visualize=False, verbose=2)\n"
   ]
  },
  {
   "cell_type": "code",
   "execution_count": null,
   "id": "67d5a078",
   "metadata": {},
   "outputs": [
    {
     "name": "stdout",
     "output_type": "stream",
     "text": [
      "(None, 7)\n"
     ]
    }
   ],
   "source": [
    "print(model.output_shape)"
   ]
  },
  {
   "cell_type": "code",
   "execution_count": null,
   "id": "a0a2d320",
   "metadata": {},
   "outputs": [
    {
     "name": "stdout",
     "output_type": "stream",
     "text": [
      "7\n"
     ]
    }
   ],
   "source": [
    "print(actions)"
   ]
  },
  {
   "cell_type": "code",
   "execution_count": null,
   "id": "f6e4e0c9",
   "metadata": {
    "scrolled": false
   },
   "outputs": [
    {
     "data": {
      "text/plain": [
       "<KerasTensor: shape=(None, 7) dtype=float32 (created by layer 'dense_2')>"
      ]
     },
     "execution_count": 15,
     "metadata": {},
     "output_type": "execute_result"
    }
   ],
   "source": [
    "model.output\n"
   ]
  }
 ],
 "metadata": {
  "kernelspec": {
   "display_name": "Python 3.9.12 ('base')",
   "language": "python",
   "name": "python3"
  },
  "language_info": {
   "codemirror_mode": {
    "name": "ipython",
    "version": 3
   },
   "file_extension": ".py",
   "mimetype": "text/x-python",
   "name": "python",
   "nbconvert_exporter": "python",
   "pygments_lexer": "ipython3",
   "version": "3.9.12"
  },
  "vscode": {
   "interpreter": {
    "hash": "ad2bdc8ecc057115af97d19610ffacc2b4e99fae6737bb82f5d7fb13d2f2c186"
   }
  }
 },
 "nbformat": 4,
 "nbformat_minor": 5
}
